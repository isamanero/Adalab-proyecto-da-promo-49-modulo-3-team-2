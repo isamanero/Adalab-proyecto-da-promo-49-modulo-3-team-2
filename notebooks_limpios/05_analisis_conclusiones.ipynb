{
 "cells": [
  {
   "cell_type": "markdown",
   "metadata": {},
   "source": [
    "### Sexo de los trabajadores\n",
    "\n",
    "- Los trabajadores de la empresa son alrededor de un 60% hombres y casi un 40% mujeres. \n",
    "\n",
    "- Cuando analizamos los datos de abandono en la empresa, podemos ver que su tasa de rotación es del 16%, lo que sería un porcentaje más alto de lo que cabría esperar para una empresa del sector (tecnología), que suele encontrarse entre el 5 y el 10%. \n",
    "\n",
    "- Cuando revisamos el abandono por sexo, podemos ver como más hombres han abandonado la empresa, lo cual se corresponde con una mayor presencia de los mismos entre el total de trabajadores. \n",
    "\n",
    "- Las mujeres están ligeramente menos satisfechas que los hombres con su puesto de trabajo, pero en ambos casos, los que abandonaron la empresa son los que estaban menos satisfechos.\n",
    "\n",
    "- Para ambos sexos, la satisfacción con el ambiente laboral era menor para los trabajadores que abandonaron la empresa."
   ]
  },
  {
   "cell_type": "markdown",
   "metadata": {},
   "source": [
    "### Abandono\n",
    "\n",
    "1. Puesto de trabajo y departamento:\n",
    "\n",
    "Cuando analizamos por departamento tenemos demasiados desconocidos para poder sacar un análisis de valor, pero si analizamos por puesto de trabajo vemos que:\n",
    "\n",
    "- Laboratory Technician y Sales Representative son los que más abandono sufren , seguido por Reserch Scientist.\n",
    "\n",
    "2. Salario y puesto de trabajo:\n",
    "\n",
    "- Los salarios más bajos coinciden con los datos de mayor abandono y menor satisfacción laboral.\n",
    "\n",
    "\n"
   ]
  },
  {
   "cell_type": "markdown",
   "metadata": {},
   "source": [
    "### Satisfacción en el puesto de trabajo\n",
    "\n",
    "1. Salario: \n",
    "\n",
    "Podemos ver como las personas que abandonaron la empresa disfrutaban de media, de un salario menor en comparación con las que no lo abandonaron.\n",
    "\n",
    "2. Departamento:\n",
    "\n",
    "RRHH es el departamento menos satisfecho en general, pero también que los trabajadores del departamento que abandonaron la empresa estaban doavía menos satisfechos.\n",
    "\n",
    "3. Edad:\n",
    "\n",
    "No se ve una relación entre la satisfacción y las edades de los trabajadores.\n",
    "\n",
    "4. Viajes de trabajo:\n",
    "\n",
    "Las personas que no viajaban son las que se marcharon de la empresa y menos satisfechas estaban.\n",
    "\n",
    "5. Años en la compañia:\n",
    "\n",
    "Cuando introducimos la variable attrition podemos ver como las personas que abanadonaron la empresa estaban menos satisfechas y llevaban menos años en la empresa. Los que más años llevaban en la empresa eran los mas satisfechos.\n",
    "\n"
   ]
  },
  {
   "cell_type": "markdown",
   "metadata": {},
   "source": [
    "### Satisfacción con el ambiente laboral\n",
    "\n",
    "1. Departamento y puesto de trabajo:\n",
    "\n",
    "Health care es el puesto de trabajo que ha sufrido abandonos a pesar de tener una satisfacción muy alta.\n",
    "\n",
    "Recursos humanos es el que menor puntuación otorga a la satisfacción del ambiente laboral.\n",
    "\n",
    "2. Jornada laboral:\n",
    "\n",
    "Quienes abandonaron la empresa tenian menor satisfacción con el ambiente laboral.\n",
    "\n",
    "3. Distancia casa-puesto de trabajo:\n",
    "\n",
    "A medida que la distancia desde casa aumenta, la satisfacción con el entorno también tiende a aumentar. Los empleados que están dispuestos a viajar más lejos podrían hacerlo porque valoran mucho el entorno laboral. Tal vez la empresa ofrece beneficios o comodidades que justifican el desplazamiento.\n",
    "\n",
    "4. Yearsatcompany\n",
    "\n",
    "A medida que los empleados acumulan más años en la empresa, su satisfacción laboral tiende a disminuir un poco."
   ]
  }
 ],
 "metadata": {
  "kernelspec": {
   "display_name": "base",
   "language": "python",
   "name": "python3"
  },
  "language_info": {
   "name": "python",
   "version": "3.12.7"
  }
 },
 "nbformat": 4,
 "nbformat_minor": 2
}
