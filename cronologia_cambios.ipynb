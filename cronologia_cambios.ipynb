{
 "cells": [
  {
   "cell_type": "markdown",
   "metadata": {},
   "source": [
    "**``Día 18/03 - Martes``**"
   ]
  },
  {
   "cell_type": "markdown",
   "metadata": {},
   "source": [
    "1. Elección de **ScrumMaster** (primer periodo): Isabel\n",
    "2. Selección de **agreements** (en plantilla de Slack)"
   ]
  },
  {
   "cell_type": "markdown",
   "metadata": {},
   "source": [
    "**``Día 19/03 - Miércoles``**"
   ]
  },
  {
   "cell_type": "markdown",
   "metadata": {},
   "source": [
    "1. Asignamos las columnas a cada integrante del equipo para conocer qué tipo de datos hay en el DataFrame.\n",
    "2. Sobre las columnas asignadas, analizamos:\n",
    "\n",
    "    1. **Tipo de datos** : Anotaciones sobre cada columna.\n",
    "    2. **Utilidad de la columna**: Anotamos qué columnas nos pueden ser de utilidad y cuales consideramos innecesarias para ponerlo en común después.\n",
    "    3. **Sugerencias**: En cuanto a modificación de columnas o tipos de datos que albergan.\n",
    "\n",
    "\n",
    "\n",
    "**Columnas y tipo de datos de las columas**\n",
    "\n",
    "1. Edad: Hay datos en int y otros en str con guiones.\n",
    "CAMBIAR A TIPO INTEGER. CEO- RECALCULAR COLUMNA CON AÑO DE NACIMIENTO O BORRAR COLUMNA\n",
    "2. Attrition: Valores YES/NO. Está ok\n",
    "3. Businesstravel: travel_rarely/travel_frequently/NaN/non-travel.\n",
    " CAMBIAR Nan por null.\n",
    "4. Dailyrate: float con muchos decimales. CEO - PARA EL ANALISIS,CON LA COLUMNA SALARIO ES SUFICIENTE\n",
    " CAMBIAR: Redondear a menos decimales. Mantener por el momento, no está claro si la necesitamos.\n",
    "5. Department: NaN/Research & Development/Sales/Human Resources. CAMBIAR: cambiar Nan por Null\n",
    "6. Distancefromhome: int con valores negativos.\n",
    "CAMBIAR: Por el momento la mantenemos, quizás innecesaria.\n",
    "7. Education: int que va del 1 al 5.\n",
    "CAMBIAR: Columna confusa.\n",
    "8. Educationfield: NaN/Life Sciences/Technical Degree/Medical/Marketing/Human Resources/Other\n",
    "9. Employeecount: valor único de 1.\n",
    "CAMBIAR: borrar:calavera:\n",
    "10. Employeenumber: int\n",
    "11. Enviromentsatisfaction: int (del 1 al 5 pero hay 35, 42 y 47?) CEO-ANALIZAR ESOS DATOS (RANGOS DE LOS DATOS)\n",
    "12. Gender: int (0 y 1, a cambiar por 'Male' y 'Female') CEO - SIENDO 0 MALE Y 1 FEMALE\n",
    "13. Hourlyrate(tarifa por hora): float (pero la mayoría NaN?) cambiar NaN por NULL (quizás borrar):calavera:\n",
    "14. Jobinvolvement: int (del 1 al 4) rango ok\n",
    "15. joblevel: int (del 1 al 5) rango ok\n",
    "16. jobrole: str (Sales executive, Laboratory technician) (quizás poner todo en mayúsculas o minúsculas?)\n",
    "17. Jobsatisfaction: int del 1 al 4. VALIDADO POR EL CEO.\n",
    "18. Maritalstatus: str (Married, Divorced, Single, NaN) cambiar NaN por NULL\n",
    "19. monthlyincome: SALARIO str (cambiar a float, replace $, cambiar coma por punto y NaN por NULL)\n",
    "20. monthlyrate: TARIFA str (cambiar a float, replace $, cambiar coma por punto y NaN por NULL) CANDIDATA :calavera: . CEO - PARA EL ANALISIS, CON LA COLUMNA SALARIO ES SUFICIENTE\n",
    "21. numcompaniesworked: int \n",
    "22. over18: Y:yes y Nan :calavera:\n",
    "23. overtime: No-Yes\n",
    "24. percentsalaryhike: int, bien\n",
    "25. performancerating: Mal el formato de float, usa \",\" cambiarlo por \".\" (lo saca como string)\n",
    "26. relationshipsatisfaction: puntuacion 1-4 (in)\n",
    "27. standardhours: Part Time y Full Time, no sé si nos dará problemas ese espacio.\n",
    "28. stockoptionlevel: int (0-3) beneficios que se pueden obtener, que tiene que ver con las acciones\n",
    "29. totalworkingyears: Mal el formato de float, usa \",\" cambiarlo por \".\" (lo saca como string) \"Podríamos redondear a años enteros y hacer un int\"\n",
    "30. trainingtimeslastyear: int (0-6)\n",
    "31. worklifebalance: Mal el formato de float, usa \",\" cambiarlo por \".\" (string) habría que pasarlo a int\n",
    "30. yearsatcompany: INT, todo ok\n",
    "31. yearsincurrentrole: todo NAN, parece inservible, es STRING:calavera:\n",
    "32. yearssincelastpromotion: INT, todo ok\n",
    "33. yearswithcurrmanager: INT, todo ok\n",
    "34. sameasmonthlyincome: es STRING sale con dolar y coma, tiene que ser FLOAT :calavera: CEO - BORRAR COLUMNA \n",
    "35. datebirth: INT años, todo ok\n",
    "36. salary: es STRING sale con dolar y coma, tiene que ser FLOAT\n",
    "37. roledepartament: muchos NAN, hay un guion que habría que quitar y separar entre role y department, debería ser string. :calavera:38. numberchildren: es FLOAT , no tiene sentido, no se puede tener un niño y medio, es todo NAN, se puede borrar\n",
    "39. remotework: STRING deberia ser solo Yes/No, pero sale tambien False/True y 1/0. CEO - 0 FALSE Y 1 TRUE\n",
    "\n",
    "\n",
    "\n",
    "\n",
    "\n",
    "\n"
   ]
  },
  {
   "cell_type": "markdown",
   "metadata": {},
   "source": [
    "**``Día 20/03 - Jueves``**"
   ]
  },
  {
   "cell_type": "markdown",
   "metadata": {},
   "source": [
    "**Columnas que se van a borrar**"
   ]
  },
  {
   "cell_type": "markdown",
   "metadata": {},
   "source": [
    "- Edad(columna 1): Vamos a calcular una nueva columna calculando la edad con el año de nacimiento que está en la columna datebirth.\n",
    "- Sameasmonthlyincome (34)\n",
    "- Over18 (22)\n",
    "- Numberchildren: Todos los valores son nulos (38)\n",
    "- Employeecount(9)\n",
    "\n",
    "\n"
   ]
  },
  {
   "cell_type": "markdown",
   "metadata": {},
   "source": [
    "**Columnas OK**"
   ]
  },
  {
   "cell_type": "markdown",
   "metadata": {},
   "source": [
    "- Attrition(2)\n",
    "- Education(7)\n",
    "- Employeenumber(10)\n",
    "- Jobinvolvement (14)\n",
    "- Joblevel(15)\n",
    "- Jobsatisfaction(17)\n",
    "- numcompaniesworked(21)\n",
    "- overtime(23)\n",
    "- percentsalaryhike(24)"
   ]
  },
  {
   "cell_type": "markdown",
   "metadata": {},
   "source": [
    "**Columnas a limpiar**"
   ]
  },
  {
   "cell_type": "code",
   "execution_count": null,
   "metadata": {},
   "outputs": [],
   "source": [
    "- Dailyrate: redondear decimales (no nos interesa mucho)\n",
    "- Gender(12)\n",
    "- jobrole(16)\n",
    "- performancerating(25) \n"
   ]
  },
  {
   "cell_type": "markdown",
   "metadata": {},
   "source": [
    "**Columnas null**"
   ]
  },
  {
   "cell_type": "markdown",
   "metadata": {},
   "source": [
    "- Businesstravel (3)\n",
    "- Department (5)\n",
    "- Educationfield (8)\n",
    "- Hourlyrate (No nos interesa) (13)\n",
    "- MaritalStatus(18)\n",
    "- Montlyincome (No nos interesa) (19)\n",
    "- Overtime(23)\n",
    "- Performancerating(25)\n",
    "- Standardhours (27)\n",
    "- Totalworkingyears(29)\n",
    "- Worklifebalance(31)\n",
    "- Yearsincurrentrole(31)\n",
    "- Salary(37)\n",
    "- Roledepartment(37)\n",
    "\n"
   ]
  },
  {
   "cell_type": "code",
   "execution_count": null,
   "metadata": {},
   "outputs": [
    {
     "ename": "SyntaxError",
     "evalue": "invalid syntax (756664145.py, line 1)",
     "output_type": "error",
     "traceback": [
      "\u001b[1;36m  Cell \u001b[1;32mIn[1], line 1\u001b[1;36m\u001b[0m\n\u001b[1;33m    **Dudas siguiente día**\u001b[0m\n\u001b[1;37m    ^\u001b[0m\n\u001b[1;31mSyntaxError\u001b[0m\u001b[1;31m:\u001b[0m invalid syntax\n"
     ]
    }
   ],
   "source": [
    "NOS HEMOS QUEDADO POR LA 25, mirar otra vez xq la tenemos en nulos y en limpiar!!! **Dudas siguiente día**\n",
    "\n",
    "- Distancefromhome\n",
    "- Enviromentsatisfaction"
   ]
  },
  {
   "cell_type": "code",
   "execution_count": null,
   "metadata": {},
   "outputs": [],
   "source": []
  }
 ],
 "metadata": {
  "kernelspec": {
   "display_name": "Python 3",
   "language": "python",
   "name": "python3"
  },
  "language_info": {
   "codemirror_mode": {
    "name": "ipython",
    "version": 3
   },
   "file_extension": ".py",
   "mimetype": "text/x-python",
   "name": "python",
   "nbconvert_exporter": "python",
   "pygments_lexer": "ipython3",
   "version": "3.12.7"
  }
 },
 "nbformat": 4,
 "nbformat_minor": 2
}
