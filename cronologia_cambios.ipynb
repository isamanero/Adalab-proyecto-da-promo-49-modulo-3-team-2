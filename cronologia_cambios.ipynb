{
 "cells": [
  {
   "cell_type": "markdown",
   "metadata": {},
   "source": [
    "**``Día 18/03 - Martes``**"
   ]
  },
  {
   "cell_type": "markdown",
   "metadata": {},
   "source": [
    "1. Elección de **ScrumMaster** (primer periodo): Isabel\n",
    "2. Selección de **agreements** (en plantilla de Slack)"
   ]
  },
  {
   "cell_type": "markdown",
   "metadata": {},
   "source": [
    "**``Día 19/03 - Miércoles``**"
   ]
  },
  {
   "cell_type": "markdown",
   "metadata": {},
   "source": [
    "1. Asignamos las columnas a cada integrante del equipo para conocer qué tipo de datos hay en el DataFrame.\n",
    "2. Sobre las columnas asignadas, analizamos:\n",
    "\n",
    "    1. **Tipo de datos** : Anotaciones sobre cada columna.\n",
    "    2. **Utilidad de la columna**: Anotamos qué columnas nos pueden ser de utilidad y cuales consideramos innecesarias para ponerlo en común después.\n",
    "    3. **Sugerencias**: En cuanto a modificación de columnas o tipos de datos que albergan.\n",
    "\n",
    "\n",
    "\n",
    "**Columnas y tipo de datos de las columas** ``RECORDAD QUE EL NÚMERO DE LAS COLUMNAS NO COINCIDE CON SU ÍNDICE.``\n",
    "\n",
    "1. Edad: Hay datos en int y otros en str con guiones.\n",
    "CAMBIAR A TIPO INTEGER. CEO- RECALCULAR COLUMNA CON AÑO DE NACIMIENTO O BORRAR COLUMNA\n",
    "2. Attrition: Valores YES/NO. Está ok\n",
    "3. Businesstravel: travel_rarely/travel_frequently/NaN/non-travel.\n",
    " CAMBIAR Nan por null.\n",
    "4. Dailyrate: float con muchos decimales. CEO - PARA EL ANALISIS,CON LA COLUMNA SALARIO ES SUFICIENTE\n",
    " CAMBIAR: Redondear a menos decimales. Mantener por el momento, no está claro si la necesitamos.\n",
    "5. Department: NaN/Research & Development/Sales/Human Resources. CAMBIAR: cambiar Nan por Null\n",
    "6. Distancefromhome: int con valores negativos.\n",
    "CAMBIAR: Por el momento la mantenemos, quizás innecesaria.\n",
    "7. Education: int que va del 1 al 5.\n",
    "CAMBIAR: Columna confusa.\n",
    "8. Educationfield: NaN/Life Sciences/Technical Degree/Medical/Marketing/Human Resources/Other\n",
    "9. Employeecount: valor único de 1.\n",
    "CAMBIAR: borrar:calavera:\n",
    "10. Employeenumber: int\n",
    "11. Enviromentsatisfaction: int (del 1 al 5 pero hay 35, 42 y 47?) CEO-ANALIZAR ESOS DATOS (RANGOS DE LOS DATOS)\n",
    "12. Gender: int (0 y 1, a cambiar por 'Male' y 'Female') CEO - SIENDO 0 MALE Y 1 FEMALE\n",
    "13. Hourlyrate(tarifa por hora): float (pero la mayoría NaN?) cambiar NaN por NULL (quizás borrar):calavera:\n",
    "14. Jobinvolvement: int (del 1 al 4) rango ok\n",
    "15. joblevel: int (del 1 al 5) rango ok\n",
    "16. jobrole: str (Sales executive, Laboratory technician) (quizás poner todo en mayúsculas o minúsculas?)\n",
    "17. Jobsatisfaction: int del 1 al 4. VALIDADO POR EL CEO.\n",
    "18. Maritalstatus: str (Married, Divorced, Single, NaN) cambiar NaN por NULL\n",
    "19. monthlyincome: SALARIO str (cambiar a float, replace $, cambiar coma por punto y NaN por NULL)\n",
    "20. monthlyrate: TARIFA str (cambiar , replace $, cambiar coma por punto y NaN por NULL) CANDIDATA :calavera: . CEO - PARA EL ANALISIS, CON LA COLUMNA SALARIO ES SUFICIENTE\n",
    "21. numcompaniesworked: int \n",
    "22. over18: Y:yes y Nan :calavera:\n",
    "23. overtime: No-Yes\n",
    "24. percentsalaryhike: int, bien\n",
    "25. performancerating: Mal el formato de float, usa \",\" cambiarlo por \".\" (lo saca como string)\n",
    "26. relationshipsatisfaction: puntuacion 1-4 (in)\n",
    "27. standardhours: Part Time y Full Time, no sé si nos dará problemas ese espacio.\n",
    "28. stockoptionlevel: int (0-3) beneficios que se pueden obtener, que tiene que ver con las acciones\n",
    "29. totalworkingyears: Mal el formato de float, usa \",\" cambiarlo por \".\" (lo saca como string) \"Podríamos redondear a años enteros y hacer un int\"\n",
    "30. trainingtimeslastyear: int (0-6)\n",
    "31. worklifebalance: Mal el formato de float, usa \",\" cambiarlo por \".\" (string) habría que pasarlo a int\n",
    "30. yearsatcompany: INT, todo ok\n",
    "31. yearsincurrentrole: todo NAN, parece inservible, es STRING:calavera:\n",
    "32. yearssincelastpromotion: INT, todo ok\n",
    "33. yearswithcurrmanager: INT, todo ok\n",
    "34. sameasmonthlyincome: es STRING sale con dolar y coma, tiene que ser FLOAT :calavera: CEO - BORRAR COLUMNA \n",
    "35. datebirth: INT años, todo ok\n",
    "36. salary: es STRING sale con dolar y coma, tiene que ser FLOAT\n",
    "37. roledepartament: muchos NAN, hay un guion que habría que quitar y separar entre role y department, debería ser string. :calavera:\n",
    "38. numberchildren: es FLOAT , no tiene sentido, no se puede tener un niño y medio, es todo NAN, se puede borrar\n",
    "39. remotework: STRING deberia ser solo Yes/No, pero sale tambien False/True y 1/0. CEO - 0 FALSE Y 1 TRUE\n",
    "\n",
    "\n",
    "\n",
    "\n",
    "\n",
    "\n"
   ]
  },
  {
   "cell_type": "markdown",
   "metadata": {},
   "source": [
    "**``Día 20/03 - Jueves``**"
   ]
  },
  {
   "cell_type": "markdown",
   "metadata": {},
   "source": [
    "**Columnas que se van a borrar**"
   ]
  },
  {
   "cell_type": "markdown",
   "metadata": {},
   "source": [
    "- Edad(columna 1): Vamos a calcular una nueva columna calculando la edad con el año de nacimiento que está en la columna datebirth.\n",
    "- Over18 (22) (todos son yes y nan, no aporta valor)\n",
    "- Numberchildren: (Todos los valores son nulos (38))\n",
    "- Employeecount(9): (No aporta valor,valores únicos de 1)\n",
    "- yearsincurrentrole: Nan (97%)\n",
    "- sameasmonthlyincome: Hay una columna igual (monthlyincome)\n",
    "- roledepartment (redundante, tiene info de las columnas jobrole y department y se pierde información porque cuando no hay info sobre uno de los valores, aparece null)\n",
    "- numberchildren (todo nan)\n",
    "\n",
    "\n"
   ]
  },
  {
   "cell_type": "markdown",
   "metadata": {},
   "source": [
    "**Columnas OK**"
   ]
  },
  {
   "cell_type": "markdown",
   "metadata": {},
   "source": [
    "- Attrition(2)\n",
    "- Education(7)\n",
    "- Employeenumber(10)\n",
    "- Jobinvolvement (14)\n",
    "- Joblevel(15)\n",
    "- Jobsatisfaction(17)\n",
    "- numcompaniesworked(21)\n",
    "- overtime(23)\n",
    "- percentsalaryhike(24)\n",
    "- relationshipsatisfaction (26)\n",
    "- standardhours\n",
    "- stockoptionlevel\n",
    "- trainingtimeslastyea\n",
    "- yearsatcompany\n",
    "- yearssincelastpromotion\n",
    "- yearswithcurrmanager\n",
    "- datebirth"
   ]
  },
  {
   "cell_type": "markdown",
   "metadata": {},
   "source": [
    "**Columnas a limpiar**"
   ]
  },
  {
   "cell_type": "markdown",
   "metadata": {},
   "source": [
    "- Dailyrate: redondear decimales (no nos interesa mucho)\n",
    "- Gender(12)\n",
    "- jobrole(16)\n",
    "- performancerating(25) \n",
    "- totalworkingyears\n",
    "- worklifebalance\n",
    "- salary\n",
    "- remotework\n",
    "- Enviromentsatisfaction\n",
    "- Distancefromhome"
   ]
  },
  {
   "cell_type": "markdown",
   "metadata": {},
   "source": [
    "**Columnas null**"
   ]
  },
  {
   "cell_type": "markdown",
   "metadata": {},
   "source": [
    "- Businesstravel (3)\n",
    "- Department (5)\n",
    "- Educationfield (8)\n",
    "- Hourlyrate (No nos interesa) (13)\n",
    "- MaritalStatus(18)\n",
    "- Montlyincome (No nos interesa) (19)\n",
    "- Overtime(23)\n",
    "- Performancerating(25)\n",
    "- Standardhours (27)\n",
    "- Totalworkingyears(29)\n",
    "- Worklifebalance(31)\n",
    "- Yearsincurrentrole(31)\n",
    "- Salary(37)\n",
    "- Roledepartment(37)\n",
    "\n"
   ]
  },
  {
   "cell_type": "markdown",
   "metadata": {},
   "source": [
    "\n",
    " **Dudas siguiente día**\n",
    "\n",
    "- Distancefromhome - valores negativos\n",
    "- Enviromentsatisfaction\n",
    "\n"
   ]
  },
  {
   "cell_type": "markdown",
   "metadata": {},
   "source": [
    "Nos hemos quedado por la 25, mirar otra vez xq la tenemos en nulos y en limpiar."
   ]
  },
  {
   "cell_type": "markdown",
   "metadata": {},
   "source": [
    "**``Día 21/03 - Viernes``**"
   ]
  },
  {
   "cell_type": "markdown",
   "metadata": {},
   "source": [
    "Hemos terminado de clasificar todas las columnas restantes.\n",
    "\n",
    "``Deberes``: Hacer una copia del archivo_csv y probar a limpiar columnas, a elegir entre:\n",
    "\n",
    "- Dailyrate: \n",
    "- Gender\n",
    "- jobrole\n",
    "- performancerating\n",
    "- totalworkingyears\n",
    "- worklifebalance\n",
    "- salary\n",
    "- remotework\n",
    "- Enviromentsatisfaction\n",
    "- Distancefromhome"
   ]
  },
  {
   "cell_type": "markdown",
   "metadata": {},
   "source": [
    "**Dudas resueltas**\n",
    "- Columnas a borrar: es buena idea borrar las columnas que aparecen vacias (todo nan?) - CEO: SI. Se puede recomendar a la empresa que recopile datos.\n",
    "- La columna yearsincurrentrole: Nan (97%) CEO - también la borramos. Se puede recomendar a la empresa que recopile datos.\n",
    "- CEO: Documentad la razón por la que se borra cada columna en un markdown."
   ]
  },
  {
   "cell_type": "markdown",
   "metadata": {},
   "source": [
    "\n",
    " **Por descubrir**\n",
    "\n",
    "- Distancefromhome - valores negativos\n",
    "- Enviromentsatisfaction\n"
   ]
  },
  {
   "cell_type": "markdown",
   "metadata": {},
   "source": [
    "**``Día 24/03 - Lunes``**"
   ]
  },
  {
   "cell_type": "markdown",
   "metadata": {},
   "source": [
    "Borramos las columnas: \n",
    "1. Edad\n",
    "2. Over18 \n",
    "3. Numberchildren\n",
    "4. Employeecount\n",
    "5. yearsincurrentrole\n",
    "6. sameasmonthlyincome\n",
    "7. roledepartment "
   ]
  },
  {
   "cell_type": "markdown",
   "metadata": {},
   "source": [
    "Las columnas OK no las tocamos por el momento"
   ]
  },
  {
   "cell_type": "markdown",
   "metadata": {},
   "source": [
    "Las columnas a limpiar son:\n",
    "\n",
    "- Dailyrate \n",
    "- Gender \n",
    "- jobrole \n",
    "- performancerating: Tras hacer un max de los valores de la col, decidimos pasarlos a int en lugar de float. \n",
    "- totalworkingyears: Tras hacer un max de los valores de la col, decidimos pasarlos a int en lugar de float. \n",
    "- worklifebalance: Tras hacer un max de los valores de la col, decidimos pasarlos a int en lugar de float. \n",
    "- salary \n",
    "- remotework \n",
    "- Enviromentsatisfaction \n",
    "- Distancefromhome"
   ]
  },
  {
   "cell_type": "markdown",
   "metadata": {},
   "source": [
    "Las columnas nulas quedan pendientes (lección de mañana)"
   ]
  },
  {
   "cell_type": "markdown",
   "metadata": {},
   "source": [
    "**Workinprogress**: \n",
    "- Estamos trabajando en las columnas performancerating/totalworkingyears/worklifebalance.\n",
    "- Hemos realizado una función que cambia el dato de object a float; revisando la estructura del dato (maximo,minimo) vemos que es mejor cambiar este dato a int porque el float no aporta valor. \n",
    "- Pendiente: Realizar este cambio; de momento nos da problemas la función."
   ]
  },
  {
   "cell_type": "markdown",
   "metadata": {},
   "source": [
    "**``Día 27/03 - Jueves``**"
   ]
  },
  {
   "cell_type": "markdown",
   "metadata": {},
   "source": [
    "**Columnas limpias**"
   ]
  },
  {
   "cell_type": "markdown",
   "metadata": {},
   "source": [
    "- Gender\n",
    "- Dailyrate\n",
    "- Distancefromhome\n",
    "- Jobrole\n",
    "- Monthlyincome\n",
    "- Monthlyrate\n",
    "- Salary\n",
    "- Remotework\n",
    "- environmentsatisfaction\n",
    "- MaritalStatus\n",
    "- Performancerating\n",
    "- Totalworkingyears\n",
    "- Worklifebalance "
   ]
  },
  {
   "cell_type": "markdown",
   "metadata": {},
   "source": [
    "**Conclusión 27/03/2025**"
   ]
  },
  {
   "cell_type": "markdown",
   "metadata": {},
   "source": [
    "- Hemos terminado de limpiar las columnas que teníamos en la lista y hemos empezado una segunda revisión de las columnas. Nos hemos quedado corrigiendo los espacios al inicio y al final de los datos de la columna 'department'\n",
    "\n",
    "- Seguir revisando q las columnas esten bien / gestion de nulos en funcion de si la columna es categorica o no, porcentajes de nulos y criterios varios."
   ]
  },
  {
   "cell_type": "markdown",
   "metadata": {},
   "source": [
    "**``Día 28/03 - Viernes``**"
   ]
  },
  {
   "cell_type": "markdown",
   "metadata": {},
   "source": [
    "Borramos los duplicados que hay (basándonos en la columna \"employeenumber\")"
   ]
  },
  {
   "cell_type": "markdown",
   "metadata": {},
   "source": [
    "**Columnas nulas y el porcentaje de nulos:** \n",
    "\n",
    "- businesstravel 47.44 %\n",
    "- department 81.41%\n",
    "- educationfield 46.13 %\n",
    "- hourlyrate 75.51 %\n",
    "- maritalstatus 40.23 %\n",
    "- monthlyincome 29.14 %\n",
    "- overtime 41.48 %\n",
    "- performancerating 11.92 %\n",
    "- standardhours 20.92 %\n",
    "- totalworkingyears 32.72 %\n",
    "- worklifebalance 6.79 %\n",
    "- salary 16.98 %"
   ]
  },
  {
   "cell_type": "markdown",
   "metadata": {},
   "source": [
    "**Columnas categóricas dentro de nulos y cambios a realizar:**\n",
    "\n",
    "- businesstravel: Nan por \"Unknown\"\n",
    "- department: Nan por \"Unknown\"\n",
    "- educationfield: Nan por \"Unknown\"\n",
    "- maritalstatus: Nan por \"Unknown\"\n",
    "- overtime: Nan por \"Unknown\"\n",
    "- standardhours: Nan por \"Unknown\"\n"
   ]
  },
  {
   "cell_type": "markdown",
   "metadata": {},
   "source": [
    "**Columnas númericas dentro de nulos y cambios a realizar:**\n",
    "\n",
    "- hourlyrate: no hacemos cambios \n",
    "- monthlyincome: no hacemos cambios\n",
    "- performancerating: (¿el 11% son nulos y la moda es el 3, deberiamos cambiar los nulos por la moda?)\n",
    "- totalworkingyears: no hacemos cambios\n",
    "- worklifebalance: cambiamos  nulos por el número 3 ya que es la moda y la mediana y los nulos representan el 6.79%.\n",
    "- salary: no hacemos cambios"
   ]
  },
  {
   "cell_type": "markdown",
   "metadata": {},
   "source": [
    "**``Día 31/03 - Lunes``**"
   ]
  },
  {
   "cell_type": "markdown",
   "metadata": {},
   "source": [
    "- Gestionamos nulos en columnas numéricas.\n",
    "- Gestionamos nulos en columnas categóricas\n"
   ]
  },
  {
   "cell_type": "markdown",
   "metadata": {},
   "source": [
    "**Relaciones entre columnas que estudiaremos posteriormente:**"
   ]
  },
  {
   "cell_type": "markdown",
   "metadata": {},
   "source": [
    "1. Salary se relaciona con: \n",
    "- job level corr 0.97\n",
    "- years at company corr 0.51\n",
    "- yearssincelastpromotion y yearswithcurrmanager 0.31 y 0.32\n",
    "- education corr 0.10"
   ]
  },
  {
   "cell_type": "markdown",
   "metadata": {},
   "source": [
    "2. Yearswithcurrentmanager se relaciona con:\n",
    "- yearsincurrentcompany 0.76\n",
    "- jobsatisfaction -0.03\n"
   ]
  },
  {
   "cell_type": "markdown",
   "metadata": {},
   "source": [
    "3. Yearatcompany se relaciona con:\n",
    "\n",
    "- yearssincelastpromotion 0.61\n"
   ]
  },
  {
   "cell_type": "markdown",
   "metadata": {},
   "source": [
    "4. Environmentsatisfaction se relaciona con:\n",
    "- salary\n",
    "- jobrole, joblevel, department\n",
    "- gender\n",
    "- datebirth\n",
    "- yearswithcurrentmanager\n",
    "- yearsincelastpromotion\n",
    "- yearsincurrentrole "
   ]
  },
  {
   "cell_type": "markdown",
   "metadata": {},
   "source": [
    "5. Jobsatisfaction\n",
    "\n",
    "- salary\n",
    "- distancefromhome\n",
    "- jobrole, joblevel, department\n",
    "- gender\n",
    "- datebirth\n",
    "- remotework\n",
    "- bussinestravel\n",
    "- education - jobrole\n",
    "- standardhours\n",
    "- yearsatcompany - yearsincurrentrole\n",
    "- performancerating\n"
   ]
  },
  {
   "cell_type": "markdown",
   "metadata": {},
   "source": [
    "**Gráficos y relaciones entre variables:**"
   ]
  },
  {
   "cell_type": "markdown",
   "metadata": {},
   "source": [
    "**Columna job satisfaction**"
   ]
  },
  {
   "cell_type": "markdown",
   "metadata": {},
   "source": [
    "- Job satisfaction - salary : no se relacionan entre ambas\n",
    "- Job satisfaction  - Distancefromhome : No la incluiremos.\n",
    "- Job satisfaction - jobrole : Vamos a quitarlo. No aporta información relevante.\n",
    "- Job satisfaction - joblevel : No se relacionan. \n",
    "- Job satisfaction - department : Se ve una relación clara de la satisfación según el departamento.\n"
   ]
  },
  {
   "cell_type": "markdown",
   "metadata": {},
   "source": [
    "**Deberes:**\n",
    "Nos dividimos las columnas para realizar las gráficas de relación."
   ]
  },
  {
   "cell_type": "markdown",
   "metadata": {},
   "source": [
    "**``Día 01/04 - Martes``**"
   ]
  },
  {
   "cell_type": "markdown",
   "metadata": {},
   "source": [
    "Elegimos qué gráficos vamos a incluir en la presentación y cuáles no según el resultado del análisis del día anterior:"
   ]
  },
  {
   "cell_type": "markdown",
   "metadata": {},
   "source": [
    "1. Job satisfaction"
   ]
  },
  {
   "cell_type": "markdown",
   "metadata": {},
   "source": [
    "- Job satisfaction - salary : ✅​\n",
    "- Job satisfaction  - Distancefromhome : ❌​\n",
    "- Job satisfaction - joblevel : ✅​\n",
    "- Job satisfaction - department : ✅​ \n",
    "- Job satisfaction - gender: ✅ (podemos meter una gráfica del género para ver la proporción de hombres/mujeres antes de comparar la satisfacciçon por género)​\n",
    "- Job satisfaction - datebirth: ❌​\n",
    "- Job satisfaction - remotework: Podemos incluirla. No muestra relación.\n",
    "- Job satisfaction - businesstravel: ✅​\n",
    "- Job satisfaction - education: ❌​\n",
    "- Job satisfaction - jobrole : ❌​ (ya tenemos department)\n",
    "- Job satisfaction - standardhours: ❌​\n",
    "- Job satisfaction - yearsatcompany: ✅​ \n",
    "- Job satisfaction - performancerating: ❌​\n",
    "\n"
   ]
  },
  {
   "cell_type": "markdown",
   "metadata": {},
   "source": [
    "2. Environmentsatisfaction\n",
    "\n",
    "\n"
   ]
  },
  {
   "cell_type": "markdown",
   "metadata": {},
   "source": [
    "- salary: ❌\n",
    "- jobrole: ✅​ podemos incluirlo con jobsatisfaction \n",
    "- department: ❌​ salen muchos desconocidos\n",
    "- gender: ✅ lo incluimos levemente \n",
    "- datebirth:  ✅ ​Relacionada con  Job satisfaction vs yearsatcompany\n",
    "- yearswithcurrentmanager ❌​ comentarlo puede, enseñar grafica no\n",
    "- yearssincelastpromotion ❌ comentarlo puede, enseñar grafica no\n",
    "- yearsatcompany ❌​ comentarlo puede, enseñar grafica no"
   ]
  },
  {
   "cell_type": "markdown",
   "metadata": {},
   "source": [
    "- performancerating: Los empleados están mas insatisfechos que satisfechos (hacemos un countplot) No creo que lo incluyamos."
   ]
  },
  {
   "cell_type": "markdown",
   "metadata": {},
   "source": [
    "**Gráficos para añadir valor a la presentación:**\n",
    "\n",
    "- Quesito de continuidad en la empresa (añadir al principio)"
   ]
  },
  {
   "cell_type": "markdown",
   "metadata": {},
   "source": []
  },
  {
   "cell_type": "markdown",
   "metadata": {},
   "source": []
  },
  {
   "cell_type": "markdown",
   "metadata": {},
   "source": []
  },
  {
   "cell_type": "markdown",
   "metadata": {},
   "source": []
  },
  {
   "cell_type": "markdown",
   "metadata": {},
   "source": []
  },
  {
   "cell_type": "markdown",
   "metadata": {},
   "source": []
  },
  {
   "cell_type": "markdown",
   "metadata": {},
   "source": []
  },
  {
   "cell_type": "markdown",
   "metadata": {},
   "source": []
  },
  {
   "cell_type": "markdown",
   "metadata": {},
   "source": []
  },
  {
   "cell_type": "markdown",
   "metadata": {},
   "source": []
  },
  {
   "cell_type": "markdown",
   "metadata": {},
   "source": []
  },
  {
   "cell_type": "markdown",
   "metadata": {},
   "source": []
  },
  {
   "cell_type": "markdown",
   "metadata": {},
   "source": []
  },
  {
   "cell_type": "markdown",
   "metadata": {},
   "source": []
  },
  {
   "cell_type": "markdown",
   "metadata": {},
   "source": []
  },
  {
   "cell_type": "markdown",
   "metadata": {},
   "source": []
  },
  {
   "cell_type": "markdown",
   "metadata": {},
   "source": []
  },
  {
   "cell_type": "markdown",
   "metadata": {},
   "source": []
  },
  {
   "cell_type": "markdown",
   "metadata": {},
   "source": []
  },
  {
   "cell_type": "markdown",
   "metadata": {},
   "source": []
  },
  {
   "cell_type": "markdown",
   "metadata": {},
   "source": []
  },
  {
   "cell_type": "markdown",
   "metadata": {},
   "source": []
  },
  {
   "cell_type": "markdown",
   "metadata": {},
   "source": []
  },
  {
   "cell_type": "markdown",
   "metadata": {},
   "source": []
  },
  {
   "cell_type": "markdown",
   "metadata": {},
   "source": []
  },
  {
   "cell_type": "markdown",
   "metadata": {},
   "source": []
  },
  {
   "cell_type": "markdown",
   "metadata": {},
   "source": []
  },
  {
   "cell_type": "markdown",
   "metadata": {},
   "source": []
  },
  {
   "cell_type": "code",
   "execution_count": null,
   "metadata": {},
   "outputs": [],
   "source": []
  },
  {
   "cell_type": "code",
   "execution_count": null,
   "metadata": {},
   "outputs": [],
   "source": []
  },
  {
   "cell_type": "code",
   "execution_count": null,
   "metadata": {},
   "outputs": [],
   "source": []
  },
  {
   "cell_type": "code",
   "execution_count": null,
   "metadata": {},
   "outputs": [],
   "source": []
  }
 ],
 "metadata": {
  "kernelspec": {
   "display_name": "base",
   "language": "python",
   "name": "python3"
  },
  "language_info": {
   "codemirror_mode": {
    "name": "ipython",
    "version": 3
   },
   "file_extension": ".py",
   "mimetype": "text/x-python",
   "name": "python",
   "nbconvert_exporter": "python",
   "pygments_lexer": "ipython3",
   "version": "3.12.7"
  }
 },
 "nbformat": 4,
 "nbformat_minor": 2
}
